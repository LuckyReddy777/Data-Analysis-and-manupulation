{
 "cells": [
  {
   "cell_type": "code",
   "execution_count": 1,
   "metadata": {},
   "outputs": [],
   "source": [
    "import numpy as np\n",
    "countries = np.array(['Algeria','Angola','Argentina','Australia','Austria','Bahamas','Bangladesh','Belarus','Belgium','Bhutan','Brazil','Bulgaria','Cambodia','Cameroon','Chile','China','Colombia','Cyprus','Denmark','El Salvador','Estonia','Ethiopia','Fiji','Finland','France','Georgia','Ghana','Grenada','Guinea','Haiti','Honduras','Hungary','India','Indonesia','Ireland','Italy','Japan','Kenya', 'South Korea','Liberia','Malaysia','Mexico', 'Morocco','Nepal','New Zealand','Norway','Pakistan', 'Peru','Qatar','Russia','Singapore','South Africa','Spain','Sweden','Switzerland','Thailand', 'United Arab Emirates','United Kingdom','United States','Uruguay','Venezuela','Vietnam','Zimbabwe'])\n",
    "gdp_per_capita = np.array([2255.225482,629.9553062,11601.63022,25306.82494,27266.40335,19466.99052,588.3691778,2890.345675,24733.62696,1445.760002,4803.398244,2618.876037,590.4521124,665.7982328,7122.938458,2639.54156,3362.4656,15378.16704,30860.12808,2579.115607,6525.541272,229.6769525,2242.689259,27570.4852,23016.84778,1334.646773,402.6953275,6047.200797,394.1156638,385.5793827,1414.072488,5745.981529,837.7464011,1206.991065,27715.52837,18937.24998,39578.07441,478.2194906,16684.21278,279.2204061,5345.213415,6288.25324,1908.304416,274.8728621,14646.42094,40034.85063,672.1547506,3359.517402,36152.66676,3054.727742,33529.83052,3825.093781,15428.32098,33630.24604,39170.41371,2699.123242,21058.43643,28272.40661,37691.02733,9581.05659,5671.912202,757.4009286,347.7456605])"
   ]
  },
  {
   "cell_type": "code",
   "execution_count": 2,
   "metadata": {},
   "outputs": [],
   "source": [
    "max_gdp_per_capita = gdp_per_capita.argmax()"
   ]
  },
  {
   "cell_type": "code",
   "execution_count": 3,
   "metadata": {},
   "outputs": [],
   "source": [
    "country_with_max_gdp_per_capita = countries[max_gdp_per_capita]"
   ]
  },
  {
   "cell_type": "code",
   "execution_count": 4,
   "metadata": {},
   "outputs": [
    {
     "data": {
      "text/plain": [
       "'Norway'"
      ]
     },
     "execution_count": 4,
     "metadata": {},
     "output_type": "execute_result"
    }
   ],
   "source": [
    "country_with_max_gdp_per_capita"
   ]
  },
  {
   "cell_type": "code",
   "execution_count": 6,
   "metadata": {},
   "outputs": [],
   "source": [
    "min_gdp_per_capita = gdp_per_capita.argmin()"
   ]
  },
  {
   "cell_type": "code",
   "execution_count": 7,
   "metadata": {},
   "outputs": [],
   "source": [
    "country_with_min_gdp_per_capita = countries[min_gdp_per_capita]"
   ]
  },
  {
   "cell_type": "code",
   "execution_count": 8,
   "metadata": {},
   "outputs": [
    {
     "data": {
      "text/plain": [
       "'Ethiopia'"
      ]
     },
     "execution_count": 8,
     "metadata": {},
     "output_type": "execute_result"
    }
   ],
   "source": [
    "country_with_min_gdp_per_capita"
   ]
  },
  {
   "cell_type": "code",
   "execution_count": 9,
   "metadata": {},
   "outputs": [
    {
     "name": "stdout",
     "output_type": "stream",
     "text": [
      "ecaluating country Algeria\n",
      "ecaluating country Angola\n",
      "ecaluating country Argentina\n",
      "ecaluating country Australia\n",
      "ecaluating country Austria\n",
      "ecaluating country Bahamas\n",
      "ecaluating country Bangladesh\n",
      "ecaluating country Belarus\n",
      "ecaluating country Belgium\n",
      "ecaluating country Bhutan\n",
      "ecaluating country Brazil\n",
      "ecaluating country Bulgaria\n",
      "ecaluating country Cambodia\n",
      "ecaluating country Cameroon\n",
      "ecaluating country Chile\n",
      "ecaluating country China\n",
      "ecaluating country Colombia\n",
      "ecaluating country Cyprus\n",
      "ecaluating country Denmark\n",
      "ecaluating country El Salvador\n",
      "ecaluating country Estonia\n",
      "ecaluating country Ethiopia\n",
      "ecaluating country Fiji\n",
      "ecaluating country Finland\n",
      "ecaluating country France\n",
      "ecaluating country Georgia\n",
      "ecaluating country Ghana\n",
      "ecaluating country Grenada\n",
      "ecaluating country Guinea\n",
      "ecaluating country Haiti\n",
      "ecaluating country Honduras\n",
      "ecaluating country Hungary\n",
      "ecaluating country India\n",
      "ecaluating country Indonesia\n",
      "ecaluating country Ireland\n",
      "ecaluating country Italy\n",
      "ecaluating country Japan\n",
      "ecaluating country Kenya\n",
      "ecaluating country South Korea\n",
      "ecaluating country Liberia\n",
      "ecaluating country Malaysia\n",
      "ecaluating country Mexico\n",
      "ecaluating country Morocco\n",
      "ecaluating country Nepal\n",
      "ecaluating country New Zealand\n",
      "ecaluating country Norway\n",
      "ecaluating country Pakistan\n",
      "ecaluating country Peru\n",
      "ecaluating country Qatar\n",
      "ecaluating country Russia\n",
      "ecaluating country Singapore\n",
      "ecaluating country South Africa\n",
      "ecaluating country Spain\n",
      "ecaluating country Sweden\n",
      "ecaluating country Switzerland\n",
      "ecaluating country Thailand\n",
      "ecaluating country United Arab Emirates\n",
      "ecaluating country United Kingdom\n",
      "ecaluating country United States\n",
      "ecaluating country Uruguay\n",
      "ecaluating country Venezuela\n",
      "ecaluating country Vietnam\n",
      "ecaluating country Zimbabwe\n"
     ]
    }
   ],
   "source": [
    "for country in countries:\n",
    "    print('ecaluating country {}'.format(country))"
   ]
  },
  {
   "cell_type": "code",
   "execution_count": 10,
   "metadata": {},
   "outputs": [
    {
     "name": "stdout",
     "output_type": "stream",
     "text": [
      "countryAlgeria per capita gdp is2255.225482\n",
      "countryAngola per capita gdp is629.9553062\n",
      "countryArgentina per capita gdp is11601.63022\n",
      "countryAustralia per capita gdp is25306.82494\n",
      "countryAustria per capita gdp is27266.40335\n",
      "countryBahamas per capita gdp is19466.99052\n",
      "countryBangladesh per capita gdp is588.3691778\n",
      "countryBelarus per capita gdp is2890.345675\n",
      "countryBelgium per capita gdp is24733.62696\n",
      "countryBhutan per capita gdp is1445.760002\n",
      "countryBrazil per capita gdp is4803.398244\n",
      "countryBulgaria per capita gdp is2618.876037\n",
      "countryCambodia per capita gdp is590.4521124\n",
      "countryCameroon per capita gdp is665.7982328\n",
      "countryChile per capita gdp is7122.938458\n",
      "countryChina per capita gdp is2639.54156\n",
      "countryColombia per capita gdp is3362.4656\n",
      "countryCyprus per capita gdp is15378.16704\n",
      "countryDenmark per capita gdp is30860.12808\n",
      "countryEl Salvador per capita gdp is2579.115607\n",
      "countryEstonia per capita gdp is6525.541272\n",
      "countryEthiopia per capita gdp is229.6769525\n",
      "countryFiji per capita gdp is2242.689259\n",
      "countryFinland per capita gdp is27570.4852\n",
      "countryFrance per capita gdp is23016.84778\n",
      "countryGeorgia per capita gdp is1334.646773\n",
      "countryGhana per capita gdp is402.6953275\n",
      "countryGrenada per capita gdp is6047.200797\n",
      "countryGuinea per capita gdp is394.1156638\n",
      "countryHaiti per capita gdp is385.5793827\n",
      "countryHonduras per capita gdp is1414.072488\n",
      "countryHungary per capita gdp is5745.981529\n",
      "countryIndia per capita gdp is837.7464011\n",
      "countryIndonesia per capita gdp is1206.991065\n",
      "countryIreland per capita gdp is27715.52837\n",
      "countryItaly per capita gdp is18937.24998\n",
      "countryJapan per capita gdp is39578.07441\n",
      "countryKenya per capita gdp is478.2194906\n",
      "countrySouth Korea per capita gdp is16684.21278\n",
      "countryLiberia per capita gdp is279.2204061\n",
      "countryMalaysia per capita gdp is5345.213415\n",
      "countryMexico per capita gdp is6288.25324\n",
      "countryMorocco per capita gdp is1908.304416\n",
      "countryNepal per capita gdp is274.8728621\n",
      "countryNew Zealand per capita gdp is14646.42094\n",
      "countryNorway per capita gdp is40034.85063\n",
      "countryPakistan per capita gdp is672.1547506\n",
      "countryPeru per capita gdp is3359.517402\n",
      "countryQatar per capita gdp is36152.66676\n",
      "countryRussia per capita gdp is3054.727742\n",
      "countrySingapore per capita gdp is33529.83052\n",
      "countrySouth Africa per capita gdp is3825.093781\n",
      "countrySpain per capita gdp is15428.32098\n",
      "countrySweden per capita gdp is33630.24604\n",
      "countrySwitzerland per capita gdp is39170.41371\n",
      "countryThailand per capita gdp is2699.123242\n",
      "countryUnited Arab Emirates per capita gdp is21058.43643\n",
      "countryUnited Kingdom per capita gdp is28272.40661\n",
      "countryUnited States per capita gdp is37691.02733\n",
      "countryUruguay per capita gdp is9581.05659\n",
      "countryVenezuela per capita gdp is5671.912202\n",
      "countryVietnam per capita gdp is757.4009286\n",
      "countryZimbabwe per capita gdp is347.7456605\n"
     ]
    }
   ],
   "source": [
    "for i in range(len(countries)):\n",
    "    country = countries[i]\n",
    "    country_gdp_per_capita = gdp_per_capita[i]\n",
    "    print('country{} per capita gdp is{}'.format(country,country_gdp_per_capita))"
   ]
  },
  {
   "cell_type": "code",
   "execution_count": null,
   "metadata": {},
   "outputs": [],
   "source": [
    "print(gdp_per_capita.max())\n",
    "print(gdp_per_capita.min())\n",
    "print(gdp_per_capita.mean())\n",
    "print"
   ]
  }
 ],
 "metadata": {
  "kernelspec": {
   "display_name": "Python 3",
   "language": "python",
   "name": "python3"
  },
  "language_info": {
   "codemirror_mode": {
    "name": "ipython",
    "version": 3
   },
   "file_extension": ".py",
   "mimetype": "text/x-python",
   "name": "python",
   "nbconvert_exporter": "python",
   "pygments_lexer": "ipython3",
   "version": "3.7.6"
  }
 },
 "nbformat": 4,
 "nbformat_minor": 4
}
